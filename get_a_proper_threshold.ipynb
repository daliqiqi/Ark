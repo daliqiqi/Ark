{
 "cells": [
  {
   "cell_type": "code",
   "execution_count": 3,
   "id": "84dc3d10",
   "metadata": {},
   "outputs": [],
   "source": [
    "import pandas as pd\n",
    "import pandas as pd \n",
    "from sklearn.metrics import roc_curve,roc_auc_score\n",
    "from sklearn.metrics import RocCurveDisplay\n",
    "from sklearn.metrics import classification_report\n",
    "import numpy as np\n"
   ]
  },
  {
   "cell_type": "code",
   "execution_count": 43,
   "id": "fb922762",
   "metadata": {},
   "outputs": [],
   "source": [
    "key=\"肺栓塞\"\n",
    "key=\"主动脉夹层\"\n",
    "# key=\"急性冠脉综合征\""
   ]
  },
  {
   "cell_type": "code",
   "execution_count": 44,
   "id": "0196da8d",
   "metadata": {},
   "outputs": [],
   "source": [
    "predict=pd.read_csv(\"autox_\"+key+\"_oneclick.csv\")"
   ]
  },
  {
   "cell_type": "code",
   "execution_count": 45,
   "id": "30cbe93d",
   "metadata": {},
   "outputs": [],
   "source": [
    "test=pd.read_csv(key+\"/test.csv\")"
   ]
  },
  {
   "cell_type": "code",
   "execution_count": 46,
   "id": "d5bbeb1b",
   "metadata": {},
   "outputs": [
    {
     "data": {
      "text/plain": [
       "0.5460526922521659"
      ]
     },
     "execution_count": 46,
     "metadata": {},
     "output_type": "execute_result"
    }
   ],
   "source": [
    "predict[\"target\"].max()"
   ]
  },
  {
   "cell_type": "code",
   "execution_count": 47,
   "id": "ee6e7f6c",
   "metadata": {},
   "outputs": [
    {
     "data": {
      "text/plain": [
       "90"
      ]
     },
     "execution_count": 47,
     "metadata": {},
     "output_type": "execute_result"
    }
   ],
   "source": [
    "len(predict[predict[\"target\"]>=0.1])"
   ]
  },
  {
   "cell_type": "code",
   "execution_count": 48,
   "id": "ce676c5b",
   "metadata": {},
   "outputs": [],
   "source": [
    "predict[\"pred\"]=predict.apply( lambda x:1 if x[\"target\"]>=0.1 else 0,axis=1 )"
   ]
  },
  {
   "cell_type": "code",
   "execution_count": 49,
   "id": "3316011f",
   "metadata": {},
   "outputs": [
    {
     "data": {
      "text/plain": [
       "0    1482\n",
       "1      90\n",
       "Name: pred, dtype: int64"
      ]
     },
     "execution_count": 49,
     "metadata": {},
     "output_type": "execute_result"
    }
   ],
   "source": [
    "predict[\"pred\"].value_counts()"
   ]
  },
  {
   "cell_type": "code",
   "execution_count": 50,
   "id": "57977c3a",
   "metadata": {},
   "outputs": [],
   "source": [
    "y_test=test[\"target\"]\n",
    "y_pred_gini=predict[\"target\"]"
   ]
  },
  {
   "cell_type": "code",
   "execution_count": 51,
   "id": "3aedf531",
   "metadata": {},
   "outputs": [
    {
     "name": "stdout",
     "output_type": "stream",
     "text": [
      "0.9871675769485989\n"
     ]
    },
    {
     "data": {
      "image/png": "[encoded data removed]",
      "text/plain": [
       "<Figure size 432x288 with 1 Axes>"
      ]
     },
     "metadata": {
      "needs_background": "light"
     },
     "output_type": "display_data"
    }
   ],
   "source": [
    "# print(classification_report(y_test, y_pred_gini))\n",
    "fpr, tpr, _ = roc_curve(y_test, y_pred_gini)\n",
    "roc_display = RocCurveDisplay(fpr=fpr, tpr=tpr).plot()\n",
    "roc_score=roc_auc_score(y_test, y_pred_gini)\n",
    "print(roc_score)"
   ]
  },
  {
   "cell_type": "code",
   "execution_count": 52,
   "id": "1d529137",
   "metadata": {},
   "outputs": [],
   "source": [
    "false_pos_rate, true_pos_rate, proba = roc_curve(y_test, y_pred_gini)"
   ]
  },
  {
   "cell_type": "code",
   "execution_count": 53,
   "id": "bb635d2f",
   "metadata": {},
   "outputs": [],
   "source": [
    "optimal_proba_cutoff = sorted(list(zip(np.abs(true_pos_rate - false_pos_rate), proba)), key=lambda i: i[0], reverse=True)[0][1]\n",
    "roc_predictions = [1 if i >= optimal_proba_cutoff else 0 for i in y_pred_gini]"
   ]
  },
  {
   "cell_type": "code",
   "execution_count": 54,
   "id": "3d1031c1",
   "metadata": {},
   "outputs": [
    {
     "name": "stdout",
     "output_type": "stream",
     "text": [
      "              precision    recall  f1-score   support\n",
      "\n",
      "           0       1.00      0.96      0.98      1507\n",
      "           1       0.51      0.98      0.67        65\n",
      "\n",
      "    accuracy                           0.96      1572\n",
      "   macro avg       0.76      0.97      0.83      1572\n",
      "weighted avg       0.98      0.96      0.97      1572\n",
      "\n"
     ]
    }
   ],
   "source": [
    " print(classification_report(y_test, roc_predictions))"
   ]
  },
  {
   "cell_type": "code",
   "execution_count": 55,
   "id": "f99a4deb",
   "metadata": {},
   "outputs": [],
   "source": [
    "fpr, tpr, thresholds = roc_curve(y_test, y_pred_gini, pos_label=1)\n",
    "\n"
   ]
  },
  {
   "cell_type": "code",
   "execution_count": 56,
   "id": "71fefc2f",
   "metadata": {},
   "outputs": [
    {
     "data": {
      "text/plain": [
       "array([1.54605269, 0.54605269, 0.54303236, 0.54141318, 0.52489084,\n",
       "       0.50896862, 0.45666375, 0.45642209, 0.43079785, 0.42508092,\n",
       "       0.40488168, 0.38799365, 0.38651983, 0.38347423, 0.37350282,\n",
       "       0.36900584, 0.36140702, 0.35512289, 0.35147936, 0.34279784,\n",
       "       0.32401001, 0.32260969, 0.30632016, 0.30559209, 0.30510968,\n",
       "       0.30300447, 0.29231931, 0.29159394, 0.23584463, 0.23038174,\n",
       "       0.19629626, 0.16848009, 0.15577378, 0.1552615 , 0.15257261,\n",
       "       0.1272956 , 0.1109826 , 0.1083997 , 0.10573067, 0.09930569,\n",
       "       0.09839425, 0.09345856, 0.09090132, 0.08853245, 0.08718293,\n",
       "       0.05030378, 0.04863988, 0.04190941, 0.04149588, 0.04093917,\n",
       "       0.04077697, 0.01368716, 0.01359207, 0.00895647, 0.00895644,\n",
       "       0.0089553 ])"
      ]
     },
     "execution_count": 56,
     "metadata": {},
     "output_type": "execute_result"
    }
   ],
   "source": [
    "thresholds"
   ]
  },
  {
   "cell_type": "code",
   "execution_count": 18,
   "id": "c591e457",
   "metadata": {},
   "outputs": [
    {
     "name": "stdout",
     "output_type": "stream",
     "text": [
      "Looking in indexes: http://pypi.douban.com/simple\n",
      "Requirement already satisfied: matplotlib in /home/anaconda3/envs/qi@py36/lib/python3.6/site-packages (3.3.4)\n",
      "Requirement already satisfied: pyparsing!=2.0.4,!=2.1.2,!=2.1.6,>=2.0.3 in /home/anaconda3/envs/qi@py36/lib/python3.6/site-packages (from matplotlib) (3.0.9)\n",
      "Requirement already satisfied: pillow>=6.2.0 in /home/anaconda3/envs/qi@py36/lib/python3.6/site-packages (from matplotlib) (8.4.0)\n",
      "Requirement already satisfied: kiwisolver>=1.0.1 in /home/anaconda3/envs/qi@py36/lib/python3.6/site-packages (from matplotlib) (1.3.1)\n",
      "Requirement already satisfied: cycler>=0.10 in /home/anaconda3/envs/qi@py36/lib/python3.6/site-packages (from matplotlib) (0.11.0)\n",
      "Requirement already satisfied: python-dateutil>=2.1 in /home/anaconda3/envs/qi@py36/lib/python3.6/site-packages (from matplotlib) (2.8.2)\n",
      "Requirement already satisfied: numpy>=1.15 in /home/anaconda3/envs/qi@py36/lib/python3.6/site-packages (from matplotlib) (1.19.5)\n",
      "Requirement already satisfied: six>=1.5 in /home/anaconda3/envs/qi@py36/lib/python3.6/site-packages (from python-dateutil>=2.1->matplotlib) (1.15.0)\n",
      "\u001b[33mWARNING: Running pip as the 'root' user can result in broken permissions and conflicting behaviour with the system package manager. It is recommended to use a virtual environment instead: https://pip.pypa.io/warnings/venv\u001b[0m\n",
      "Note: you may need to restart the kernel to use updated packages.\n"
     ]
    }
   ],
   "source": [
    "pip install matplotlib"
   ]
  },
  {
   "cell_type": "code",
   "execution_count": null,
   "id": "82575475",
   "metadata": {},
   "outputs": [],
   "source": []
  }
 ],
 "metadata": {
  "kernelspec": {
   "display_name": "Python 3",
   "language": "python",
   "name": "python3"
  },
  "language_info": {
   "codemirror_mode": {
    "name": "ipython",
    "version": 3
   },
   "file_extension": ".py",
   "mimetype": "text/x-python",
   "name": "python",
   "nbconvert_exporter": "python",
   "pygments_lexer": "ipython3",
   "version": "3.6.13"
  }
 },
 "nbformat": 4,
 "nbformat_minor": 5
}
